{
 "cells": [
  {
   "cell_type": "markdown",
   "metadata": {},
   "source": [
    "10. Partition news data by major topic. Use the appropriate model for the topic and predict. Only keep: news_source, date, major_topic, slant_prediction (this is what our model does) --- in fact, it would be great if we could append slant score (prob. republican) to the major topic prediction\n"
   ]
  },
  {
   "cell_type": "code",
   "execution_count": 1,
   "metadata": {
    "collapsed": true
   },
   "outputs": [],
   "source": [
    "import pandas as pd\n",
    "import numpy as np\n",
    "import time"
   ]
  },
  {
   "cell_type": "code",
   "execution_count": 2,
   "metadata": {
    "collapsed": false
   },
   "outputs": [],
   "source": [
    "import re\n",
    "import textwrap\n",
    "\n",
    "def insert_chars_split_marker(text, cc=2500):\n",
    "    # FIXME: text still has number\n",
    "    text = re.sub('\\d+', '', text)\n",
    "    out = '|'.join(textwrap.wrap(text, cc))\n",
    "    return out\n",
    "\n",
    "def insert_words_split_marker(text, wc=500):\n",
    "    text = re.sub('\\d+', '', text)\n",
    "    words = text.split()\n",
    "    out = ''\n",
    "    for i, w in enumerate(words):\n",
    "        if i != 0 and i % wc == 0:\n",
    "            out += '|' + w\n",
    "        else:\n",
    "            out += ' ' + w\n",
    "    return out"
   ]
  },
  {
   "cell_type": "code",
   "execution_count": 3,
   "metadata": {
    "collapsed": true
   },
   "outputs": [],
   "source": [
    "from sklearn.externals import joblib\n",
    "from sklearn.feature_extraction.text import TfidfTransformer"
   ]
  },
  {
   "cell_type": "markdown",
   "metadata": {},
   "source": [
    "## Party prediction"
   ]
  },
  {
   "cell_type": "code",
   "execution_count": 4,
   "metadata": {
    "collapsed": false
   },
   "outputs": [
    {
     "name": "stdout",
     "output_type": "stream",
     "text": [
      "3 14459\n",
      "1\n",
      "2\n",
      "3\n",
      "4\n",
      "5\n",
      "6\n",
      "7\n",
      "8\n",
      "9\n",
      "10\n",
      "11\n",
      "12\n",
      "13\n",
      "14\n",
      "15\n",
      "16\n",
      "17\n",
      "18\n",
      "19\n",
      "20\n",
      "21\n",
      "22\n",
      "23\n",
      "24\n",
      "25\n",
      "26\n",
      "27\n",
      "28\n",
      "29\n",
      "30\n",
      "31\n",
      "32\n",
      "33\n",
      "34\n",
      "35\n",
      "36\n",
      "37\n",
      "38\n",
      "39\n",
      "40\n",
      "41\n",
      "42\n",
      "43\n",
      "44\n",
      "45\n",
      "46\n",
      "47\n",
      "48\n",
      "49\n",
      "50\n",
      "51\n",
      "52\n",
      "53\n",
      "54\n",
      "55\n",
      "56\n",
      "57\n",
      "58\n",
      "59\n",
      "60\n",
      "61\n",
      "62\n",
      "63\n",
      "64\n",
      "65\n",
      "66\n",
      "67\n",
      "68\n",
      "69\n",
      "70\n",
      "71\n",
      "72\n",
      "73\n",
      "74\n",
      "75\n",
      "76\n",
      "77\n",
      "78\n",
      "79\n",
      "80\n",
      "81\n",
      "82\n",
      "83\n",
      "84\n",
      "85\n",
      "86\n",
      "87\n",
      "88\n",
      "89\n",
      "90\n",
      "91\n",
      "92\n",
      "93\n",
      "94\n",
      "95\n",
      "96\n",
      "97\n",
      "98\n",
      "99\n",
      "100\n",
      "101\n"
     ]
    }
   ],
   "source": [
    "for t in [1, 2, 3, 4, 5, 6, 7, 8, 10, 12, 13, 14, 15, 16, 17, 18, 19, 20, 21]:\n",
    "    vect_name = '../new_models/major_%s_vec_count_cong_23gram.joblib' % t\n",
    "    clf_name = '../new_models/major_%s_cong_clf_elastic.joblib' % t\n",
    "\n",
    "    vect = joblib.load(vect_name)\n",
    "    clf = joblib.load(clf_name)\n",
    "    print t, len(vect.vocabulary_)\n",
    "    \n",
    "    total = 0\n",
    "    for df in pd.read_csv('../data//major_%s_news_predict_dedup.csv' % t, iterator=True, chunksize=1000):\n",
    "        if False:\n",
    "            df['text'] = df['text'].apply(lambda c: insert_chars_split_marker(c, 2500))\n",
    "            s = df['text'].str.split('|', expand=True).stack()\n",
    "            i = s.index.get_level_values(0)\n",
    "            new_df = df.loc[i].copy()\n",
    "            new_df['chunk'] = s.index.get_level_values(1)\n",
    "            new_df['text'] = s.values\n",
    "            df = new_df.reset_index(drop=True)\n",
    "        X = vect.transform(df.text.astype(str))\n",
    "        tfidf = TfidfTransformer()\n",
    "        X = tfidf.fit_transform(X)\n",
    "        y_pred = clf.predict(X)\n",
    "        df['slant_prediction'] = y_pred\n",
    "        df['slant_score'] = clf.predict_proba(X)[:,1]\n",
    "        if total == 0:\n",
    "            with open(\"../new_data/major_%d_news_predict_party.csv\" % t, \"w\") as fp:\n",
    "                df[['date', 'news_source', 'topic', 'slant_prediction', 'slant_score']].to_csv(fp, index=False)\n",
    "        else:\n",
    "            with open(\"../new_data/major_%d_news_predict_party.csv\" % t, \"a\") as fp:\n",
    "                df[['date', 'news_source', 'topic', 'slant_prediction', 'slant_score']].to_csv(fp, header=False, index=False)\n",
    "        total += 1\n",
    "        print total"
   ]
  },
  {
   "cell_type": "code",
   "execution_count": null,
   "metadata": {
    "collapsed": true
   },
   "outputs": [],
   "source": []
  }
 ],
 "metadata": {
  "kernelspec": {
   "display_name": "Python 2",
   "language": "python",
   "name": "python2"
  },
  "language_info": {
   "codemirror_mode": {
    "name": "ipython",
    "version": 2
   },
   "file_extension": ".py",
   "mimetype": "text/x-python",
   "name": "python",
   "nbconvert_exporter": "python",
   "pygments_lexer": "ipython2",
   "version": "2.7.6"
  }
 },
 "nbformat": 4,
 "nbformat_minor": 1
}
