{
 "cells": [
  {
   "cell_type": "markdown",
   "metadata": {},
   "source": [
    "### Original\n",
    "\n",
    "The data are at: opt/data/bills-out.csv\n",
    "\n",
    "We will train 3 classifiers, likely SVM as number of categories is a lot:\n",
    "\n",
    "1. predict 'Minor': column labeled 'minor'\n",
    "2. predict 'Major': column labeled 'major'\n",
    "3. predict only categories where topic_code.csv (also in opt/data) says include ==1 (I will update this soon.)\n",
    "\n",
    "\n",
    "How?\n",
    "1. Tokenize bill text\n",
    "2. Break into 5000 word chunks per bill\n",
    "3. Use SVM to predict --- cross-validate to tune\n",
    "4. Show classification success and print out top coefficients for each category so that we can verify that the model makes sense\n",
    "5. Predict congressional speech --- it is in opt/cong (or you can download via capitolwords API based on the script you wrote, we want to predict for each congress.)\n",
    "   Predict each category. If you have 9 categories, you will get 9 columns. \n",
    "   \n",
    "### Recap\n",
    "\n",
    "1. Let us again remove Roberts rules bigrams/trigrams again\n",
    "2. With just 10k tokens, I think we are selling ourselves short. Let us remove only bigrams/trigrams that are in 20 documents or less.\n",
    "3. Let us try GradientBoostedClassifier also\n",
    "4. Let us not chunk in 5k as bills seem to be ok length except for 5 or so bills which have less than 1000 characters\n",
    "\n",
    "What to predict?\n",
    "1. Major topics\n",
    "2. Minor topics: but take out all with the label 'other' or 'general'. To find out the topic codes, see topic_code.csv. We can also take out minor topics that don't have more than 10 bills.\n",
    "5. The third model will only include minor topics which in topic_code.csv column topic_1 ==1 And again we want minor topics that don't have more than 10 bills\n",
    "\n",
    "Next steps after the models:\n",
    "1. Output top 20 bigrams/trigrams for each topic where column_name = topic_label (from topic_code.csv) for each model"
   ]
  },
  {
   "cell_type": "code",
   "execution_count": 1,
   "metadata": {
    "collapsed": true
   },
   "outputs": [],
   "source": [
    "import pandas as pd\n",
    "import numpy as np\n",
    "import time"
   ]
  },
  {
   "cell_type": "markdown",
   "metadata": {},
   "source": [
    "## Read Bills dataset (cleaned version)"
   ]
  },
  {
   "cell_type": "code",
   "execution_count": 2,
   "metadata": {
    "collapsed": false
   },
   "outputs": [
    {
     "data": {
      "text/plain": [
       "Index([u'uid', u'Major', u'Minor', u'clean_text'], dtype='object')"
      ]
     },
     "execution_count": 2,
     "metadata": {},
     "output_type": "execute_result"
    }
   ],
   "source": [
    "df = pd.read_csv('../data/bills-out-clean.csv.gz', nrows=10)\n",
    "df.columns"
   ]
  },
  {
   "cell_type": "code",
   "execution_count": 3,
   "metadata": {
    "collapsed": false
   },
   "outputs": [
    {
     "data": {
      "text/html": [
       "<div>\n",
       "<table border=\"1\" class=\"dataframe\">\n",
       "  <thead>\n",
       "    <tr style=\"text-align: right;\">\n",
       "      <th></th>\n",
       "      <th>Major</th>\n",
       "      <th>Minor</th>\n",
       "      <th>clean_text</th>\n",
       "    </tr>\n",
       "  </thead>\n",
       "  <tbody>\n",
       "    <tr>\n",
       "      <th>0</th>\n",
       "      <td>20</td>\n",
       "      <td>2012</td>\n",
       "      <td>congression bill 103th congress us govern prin...</td>\n",
       "    </tr>\n",
       "    <tr>\n",
       "      <th>1</th>\n",
       "      <td>3</td>\n",
       "      <td>300</td>\n",
       "      <td>congression bill 103th congress us govern prin...</td>\n",
       "    </tr>\n",
       "    <tr>\n",
       "      <th>2</th>\n",
       "      <td>15</td>\n",
       "      <td>1520</td>\n",
       "      <td>congression bill 103th congress us govern prin...</td>\n",
       "    </tr>\n",
       "    <tr>\n",
       "      <th>3</th>\n",
       "      <td>20</td>\n",
       "      <td>2000</td>\n",
       "      <td>congression bill 103th congress us govern prin...</td>\n",
       "    </tr>\n",
       "    <tr>\n",
       "      <th>4</th>\n",
       "      <td>15</td>\n",
       "      <td>1522</td>\n",
       "      <td>congression bill 103th congress us govern prin...</td>\n",
       "    </tr>\n",
       "    <tr>\n",
       "      <th>5</th>\n",
       "      <td>1</td>\n",
       "      <td>107</td>\n",
       "      <td>congression bill 103th congress us govern prin...</td>\n",
       "    </tr>\n",
       "    <tr>\n",
       "      <th>6</th>\n",
       "      <td>14</td>\n",
       "      <td>1401</td>\n",
       "      <td>congression bill 103th congress us govern prin...</td>\n",
       "    </tr>\n",
       "    <tr>\n",
       "      <th>7</th>\n",
       "      <td>1</td>\n",
       "      <td>107</td>\n",
       "      <td>congression bill 103th congress us govern prin...</td>\n",
       "    </tr>\n",
       "    <tr>\n",
       "      <th>8</th>\n",
       "      <td>14</td>\n",
       "      <td>1406</td>\n",
       "      <td>congression bill 103th congress us govern prin...</td>\n",
       "    </tr>\n",
       "    <tr>\n",
       "      <th>9</th>\n",
       "      <td>3</td>\n",
       "      <td>331</td>\n",
       "      <td>congression bill 103th congress us govern prin...</td>\n",
       "    </tr>\n",
       "    <tr>\n",
       "      <th>10</th>\n",
       "      <td>20</td>\n",
       "      <td>2012</td>\n",
       "      <td>congression bill 103th congress us govern prin...</td>\n",
       "    </tr>\n",
       "    <tr>\n",
       "      <th>11</th>\n",
       "      <td>3</td>\n",
       "      <td>301</td>\n",
       "      <td>congression bill 103th congress us govern prin...</td>\n",
       "    </tr>\n",
       "    <tr>\n",
       "      <th>12</th>\n",
       "      <td>18</td>\n",
       "      <td>1806</td>\n",
       "      <td>congression bill 103th congress us govern prin...</td>\n",
       "    </tr>\n",
       "    <tr>\n",
       "      <th>13</th>\n",
       "      <td>2</td>\n",
       "      <td>207</td>\n",
       "      <td>congression bill 103th congress us govern prin...</td>\n",
       "    </tr>\n",
       "    <tr>\n",
       "      <th>14</th>\n",
       "      <td>15</td>\n",
       "      <td>1504</td>\n",
       "      <td>congression bill 103th congress us govern prin...</td>\n",
       "    </tr>\n",
       "    <tr>\n",
       "      <th>15</th>\n",
       "      <td>6</td>\n",
       "      <td>601</td>\n",
       "      <td>congression bill 103th congress us govern prin...</td>\n",
       "    </tr>\n",
       "    <tr>\n",
       "      <th>16</th>\n",
       "      <td>3</td>\n",
       "      <td>302</td>\n",
       "      <td>congression bill 103th congress us govern prin...</td>\n",
       "    </tr>\n",
       "    <tr>\n",
       "      <th>17</th>\n",
       "      <td>16</td>\n",
       "      <td>1609</td>\n",
       "      <td>congression bill 103th congress us govern prin...</td>\n",
       "    </tr>\n",
       "    <tr>\n",
       "      <th>18</th>\n",
       "      <td>13</td>\n",
       "      <td>1303</td>\n",
       "      <td>congression bill 103th congress us govern prin...</td>\n",
       "    </tr>\n",
       "    <tr>\n",
       "      <th>19</th>\n",
       "      <td>21</td>\n",
       "      <td>2101</td>\n",
       "      <td>congression bill 103th congress us govern prin...</td>\n",
       "    </tr>\n",
       "    <tr>\n",
       "      <th>20</th>\n",
       "      <td>21</td>\n",
       "      <td>2103</td>\n",
       "      <td>congression bill 103th congress us govern prin...</td>\n",
       "    </tr>\n",
       "    <tr>\n",
       "      <th>21</th>\n",
       "      <td>2</td>\n",
       "      <td>201</td>\n",
       "      <td>congression bill 103th congress us govern prin...</td>\n",
       "    </tr>\n",
       "    <tr>\n",
       "      <th>22</th>\n",
       "      <td>14</td>\n",
       "      <td>1406</td>\n",
       "      <td>congression bill 103th congress us govern prin...</td>\n",
       "    </tr>\n",
       "    <tr>\n",
       "      <th>23</th>\n",
       "      <td>5</td>\n",
       "      <td>501</td>\n",
       "      <td>congression bill 103th congress us govern prin...</td>\n",
       "    </tr>\n",
       "    <tr>\n",
       "      <th>24</th>\n",
       "      <td>16</td>\n",
       "      <td>1609</td>\n",
       "      <td>congression bill 103th congress us govern prin...</td>\n",
       "    </tr>\n",
       "    <tr>\n",
       "      <th>25</th>\n",
       "      <td>20</td>\n",
       "      <td>2004</td>\n",
       "      <td>congression bill 103th congress us govern prin...</td>\n",
       "    </tr>\n",
       "    <tr>\n",
       "      <th>26</th>\n",
       "      <td>20</td>\n",
       "      <td>2012</td>\n",
       "      <td>congression bill 103th congress us govern prin...</td>\n",
       "    </tr>\n",
       "    <tr>\n",
       "      <th>27</th>\n",
       "      <td>3</td>\n",
       "      <td>325</td>\n",
       "      <td>congression bill 103th congress us govern prin...</td>\n",
       "    </tr>\n",
       "    <tr>\n",
       "      <th>28</th>\n",
       "      <td>1</td>\n",
       "      <td>107</td>\n",
       "      <td>congression bill 103th congress us govern prin...</td>\n",
       "    </tr>\n",
       "    <tr>\n",
       "      <th>29</th>\n",
       "      <td>15</td>\n",
       "      <td>1504</td>\n",
       "      <td>congression bill 103th congress us govern prin...</td>\n",
       "    </tr>\n",
       "    <tr>\n",
       "      <th>...</th>\n",
       "      <td>...</td>\n",
       "      <td>...</td>\n",
       "      <td>...</td>\n",
       "    </tr>\n",
       "    <tr>\n",
       "      <th>25325</th>\n",
       "      <td>1</td>\n",
       "      <td>104</td>\n",
       "      <td>congression bill 112th congress us govern prin...</td>\n",
       "    </tr>\n",
       "    <tr>\n",
       "      <th>25326</th>\n",
       "      <td>5</td>\n",
       "      <td>502</td>\n",
       "      <td>congression bill 112th congress us govern prin...</td>\n",
       "    </tr>\n",
       "    <tr>\n",
       "      <th>25327</th>\n",
       "      <td>20</td>\n",
       "      <td>2006</td>\n",
       "      <td>congression bill 112th congress us govern prin...</td>\n",
       "    </tr>\n",
       "    <tr>\n",
       "      <th>25328</th>\n",
       "      <td>3</td>\n",
       "      <td>321</td>\n",
       "      <td>congression bill 112th congress us govern prin...</td>\n",
       "    </tr>\n",
       "    <tr>\n",
       "      <th>25329</th>\n",
       "      <td>3</td>\n",
       "      <td>321</td>\n",
       "      <td>congression bill 112th congress us govern prin...</td>\n",
       "    </tr>\n",
       "    <tr>\n",
       "      <th>25330</th>\n",
       "      <td>10</td>\n",
       "      <td>1003</td>\n",
       "      <td>congression bill 112th congress us govern prin...</td>\n",
       "    </tr>\n",
       "    <tr>\n",
       "      <th>25331</th>\n",
       "      <td>20</td>\n",
       "      <td>2012</td>\n",
       "      <td>congression bill 112th congress us govern prin...</td>\n",
       "    </tr>\n",
       "    <tr>\n",
       "      <th>25332</th>\n",
       "      <td>21</td>\n",
       "      <td>2103</td>\n",
       "      <td>congression bill 112th congress us govern prin...</td>\n",
       "    </tr>\n",
       "    <tr>\n",
       "      <th>25333</th>\n",
       "      <td>12</td>\n",
       "      <td>1210</td>\n",
       "      <td>congression bill 112th congress us govern prin...</td>\n",
       "    </tr>\n",
       "    <tr>\n",
       "      <th>25334</th>\n",
       "      <td>3</td>\n",
       "      <td>321</td>\n",
       "      <td>congression bill 112th congress us govern prin...</td>\n",
       "    </tr>\n",
       "    <tr>\n",
       "      <th>25335</th>\n",
       "      <td>17</td>\n",
       "      <td>1701</td>\n",
       "      <td>congression bill 112th congress us govern prin...</td>\n",
       "    </tr>\n",
       "    <tr>\n",
       "      <th>25336</th>\n",
       "      <td>12</td>\n",
       "      <td>1211</td>\n",
       "      <td>congression bill 112th congress us govern prin...</td>\n",
       "    </tr>\n",
       "    <tr>\n",
       "      <th>25337</th>\n",
       "      <td>20</td>\n",
       "      <td>2001</td>\n",
       "      <td>congression bill 112th congress us govern prin...</td>\n",
       "    </tr>\n",
       "    <tr>\n",
       "      <th>25338</th>\n",
       "      <td>15</td>\n",
       "      <td>1525</td>\n",
       "      <td>congression bill 112th congress us govern prin...</td>\n",
       "    </tr>\n",
       "    <tr>\n",
       "      <th>25339</th>\n",
       "      <td>7</td>\n",
       "      <td>711</td>\n",
       "      <td>congression bill 112th congress us govern prin...</td>\n",
       "    </tr>\n",
       "    <tr>\n",
       "      <th>25340</th>\n",
       "      <td>12</td>\n",
       "      <td>1210</td>\n",
       "      <td>congression bill 112th congress us govern prin...</td>\n",
       "    </tr>\n",
       "    <tr>\n",
       "      <th>25341</th>\n",
       "      <td>15</td>\n",
       "      <td>1521</td>\n",
       "      <td>congression bill 112th congress us govern prin...</td>\n",
       "    </tr>\n",
       "    <tr>\n",
       "      <th>25342</th>\n",
       "      <td>5</td>\n",
       "      <td>530</td>\n",
       "      <td>congression bill 112th congress us govern prin...</td>\n",
       "    </tr>\n",
       "    <tr>\n",
       "      <th>25343</th>\n",
       "      <td>6</td>\n",
       "      <td>602</td>\n",
       "      <td>congression bill 112th congress us govern prin...</td>\n",
       "    </tr>\n",
       "    <tr>\n",
       "      <th>25344</th>\n",
       "      <td>1</td>\n",
       "      <td>104</td>\n",
       "      <td>congression bill 112th congress us govern prin...</td>\n",
       "    </tr>\n",
       "    <tr>\n",
       "      <th>25345</th>\n",
       "      <td>13</td>\n",
       "      <td>1303</td>\n",
       "      <td>congression bill 112th congress us govern prin...</td>\n",
       "    </tr>\n",
       "    <tr>\n",
       "      <th>25346</th>\n",
       "      <td>15</td>\n",
       "      <td>1521</td>\n",
       "      <td>congression bill 112th congress us govern prin...</td>\n",
       "    </tr>\n",
       "    <tr>\n",
       "      <th>25347</th>\n",
       "      <td>15</td>\n",
       "      <td>1523</td>\n",
       "      <td>congression bill 112th congress us govern prin...</td>\n",
       "    </tr>\n",
       "    <tr>\n",
       "      <th>25348</th>\n",
       "      <td>7</td>\n",
       "      <td>710</td>\n",
       "      <td>congression bill 112th congress us govern prin...</td>\n",
       "    </tr>\n",
       "    <tr>\n",
       "      <th>25349</th>\n",
       "      <td>20</td>\n",
       "      <td>2006</td>\n",
       "      <td>congression bill 112th congress us govern prin...</td>\n",
       "    </tr>\n",
       "    <tr>\n",
       "      <th>25350</th>\n",
       "      <td>1</td>\n",
       "      <td>107</td>\n",
       "      <td>congression bill 112th congress us govern prin...</td>\n",
       "    </tr>\n",
       "    <tr>\n",
       "      <th>25351</th>\n",
       "      <td>15</td>\n",
       "      <td>1502</td>\n",
       "      <td>congression bill 112th congress us govern prin...</td>\n",
       "    </tr>\n",
       "    <tr>\n",
       "      <th>25352</th>\n",
       "      <td>13</td>\n",
       "      <td>1303</td>\n",
       "      <td>congression bill 112th congress us govern prin...</td>\n",
       "    </tr>\n",
       "    <tr>\n",
       "      <th>25353</th>\n",
       "      <td>21</td>\n",
       "      <td>2101</td>\n",
       "      <td>congression bill 112th congress us govern prin...</td>\n",
       "    </tr>\n",
       "    <tr>\n",
       "      <th>25354</th>\n",
       "      <td>7</td>\n",
       "      <td>704</td>\n",
       "      <td>congression bill 112th congress us govern prin...</td>\n",
       "    </tr>\n",
       "  </tbody>\n",
       "</table>\n",
       "<p>25355 rows × 3 columns</p>\n",
       "</div>"
      ],
      "text/plain": [
       "       Major  Minor                                         clean_text\n",
       "0         20   2012  congression bill 103th congress us govern prin...\n",
       "1          3    300  congression bill 103th congress us govern prin...\n",
       "2         15   1520  congression bill 103th congress us govern prin...\n",
       "3         20   2000  congression bill 103th congress us govern prin...\n",
       "4         15   1522  congression bill 103th congress us govern prin...\n",
       "5          1    107  congression bill 103th congress us govern prin...\n",
       "6         14   1401  congression bill 103th congress us govern prin...\n",
       "7          1    107  congression bill 103th congress us govern prin...\n",
       "8         14   1406  congression bill 103th congress us govern prin...\n",
       "9          3    331  congression bill 103th congress us govern prin...\n",
       "10        20   2012  congression bill 103th congress us govern prin...\n",
       "11         3    301  congression bill 103th congress us govern prin...\n",
       "12        18   1806  congression bill 103th congress us govern prin...\n",
       "13         2    207  congression bill 103th congress us govern prin...\n",
       "14        15   1504  congression bill 103th congress us govern prin...\n",
       "15         6    601  congression bill 103th congress us govern prin...\n",
       "16         3    302  congression bill 103th congress us govern prin...\n",
       "17        16   1609  congression bill 103th congress us govern prin...\n",
       "18        13   1303  congression bill 103th congress us govern prin...\n",
       "19        21   2101  congression bill 103th congress us govern prin...\n",
       "20        21   2103  congression bill 103th congress us govern prin...\n",
       "21         2    201  congression bill 103th congress us govern prin...\n",
       "22        14   1406  congression bill 103th congress us govern prin...\n",
       "23         5    501  congression bill 103th congress us govern prin...\n",
       "24        16   1609  congression bill 103th congress us govern prin...\n",
       "25        20   2004  congression bill 103th congress us govern prin...\n",
       "26        20   2012  congression bill 103th congress us govern prin...\n",
       "27         3    325  congression bill 103th congress us govern prin...\n",
       "28         1    107  congression bill 103th congress us govern prin...\n",
       "29        15   1504  congression bill 103th congress us govern prin...\n",
       "...      ...    ...                                                ...\n",
       "25325      1    104  congression bill 112th congress us govern prin...\n",
       "25326      5    502  congression bill 112th congress us govern prin...\n",
       "25327     20   2006  congression bill 112th congress us govern prin...\n",
       "25328      3    321  congression bill 112th congress us govern prin...\n",
       "25329      3    321  congression bill 112th congress us govern prin...\n",
       "25330     10   1003  congression bill 112th congress us govern prin...\n",
       "25331     20   2012  congression bill 112th congress us govern prin...\n",
       "25332     21   2103  congression bill 112th congress us govern prin...\n",
       "25333     12   1210  congression bill 112th congress us govern prin...\n",
       "25334      3    321  congression bill 112th congress us govern prin...\n",
       "25335     17   1701  congression bill 112th congress us govern prin...\n",
       "25336     12   1211  congression bill 112th congress us govern prin...\n",
       "25337     20   2001  congression bill 112th congress us govern prin...\n",
       "25338     15   1525  congression bill 112th congress us govern prin...\n",
       "25339      7    711  congression bill 112th congress us govern prin...\n",
       "25340     12   1210  congression bill 112th congress us govern prin...\n",
       "25341     15   1521  congression bill 112th congress us govern prin...\n",
       "25342      5    530  congression bill 112th congress us govern prin...\n",
       "25343      6    602  congression bill 112th congress us govern prin...\n",
       "25344      1    104  congression bill 112th congress us govern prin...\n",
       "25345     13   1303  congression bill 112th congress us govern prin...\n",
       "25346     15   1521  congression bill 112th congress us govern prin...\n",
       "25347     15   1523  congression bill 112th congress us govern prin...\n",
       "25348      7    710  congression bill 112th congress us govern prin...\n",
       "25349     20   2006  congression bill 112th congress us govern prin...\n",
       "25350      1    107  congression bill 112th congress us govern prin...\n",
       "25351     15   1502  congression bill 112th congress us govern prin...\n",
       "25352     13   1303  congression bill 112th congress us govern prin...\n",
       "25353     21   2101  congression bill 112th congress us govern prin...\n",
       "25354      7    704  congression bill 112th congress us govern prin...\n",
       "\n",
       "[25355 rows x 3 columns]"
      ]
     },
     "execution_count": 3,
     "metadata": {},
     "output_type": "execute_result"
    }
   ],
   "source": [
    "df = pd.read_csv('../data/bills-out-clean.csv.gz', usecols=['Major', 'Minor', 'clean_text'])\n",
    "df"
   ]
  },
  {
   "cell_type": "markdown",
   "metadata": {},
   "source": [
    "## Split long bill to smaller chunk (5000 words)"
   ]
  },
  {
   "cell_type": "code",
   "execution_count": 4,
   "metadata": {
    "collapsed": true
   },
   "outputs": [],
   "source": [
    "import re\n",
    "import textwrap\n",
    "\n",
    "def insert_chars_split_marker(text, cc=2500):\n",
    "    # FIXME: text still has number\n",
    "    text = re.sub('\\d+', '', text)\n",
    "    out = '|'.join(textwrap.wrap(text, cc))\n",
    "    return out\n",
    "\n",
    "def insert_words_split_marker(text, wc=500):\n",
    "    text = re.sub('\\d+', '', text)\n",
    "    words = text.split()\n",
    "    out = ''\n",
    "    for i, w in enumerate(words):\n",
    "        if i != 0 and i % wc == 0:\n",
    "            out += '|' + w\n",
    "        else:\n",
    "            out += ' ' + w\n",
    "    return out"
   ]
  },
  {
   "cell_type": "code",
   "execution_count": 5,
   "metadata": {
    "collapsed": false
   },
   "outputs": [],
   "source": [
    "if False:\n",
    "    df['clean_text'] = df['clean_text'].apply(lambda c: insert_words_split_marker(c, 5000))"
   ]
  },
  {
   "cell_type": "code",
   "execution_count": 6,
   "metadata": {
    "collapsed": false
   },
   "outputs": [],
   "source": [
    "if False:\n",
    "    s = df['clean_text'].str.split('|', expand=True).stack()\n",
    "    i = s.index.get_level_values(0)\n",
    "    new_df = df.loc[i].copy()\n",
    "    new_df['chunk'] = s.index.get_level_values(1)\n",
    "    new_df['clean_text'] = s.values\n",
    "    df = new_df\n",
    "    df"
   ]
  },
  {
   "cell_type": "markdown",
   "metadata": {},
   "source": [
    "## Vectorize"
   ]
  },
  {
   "cell_type": "code",
   "execution_count": 7,
   "metadata": {
    "collapsed": false
   },
   "outputs": [],
   "source": [
    "import nltk\n",
    "from nltk import word_tokenize          \n",
    "from nltk.stem.porter import PorterStemmer\n",
    "import re\n",
    "import string\n",
    "\n",
    "stemmer = PorterStemmer()\n",
    "def stem_tokens(tokens, stemmer):\n",
    "    stemmed = []\n",
    "    for item in tokens:\n",
    "        stemmed.append(stemmer.stem(item))\n",
    "    return stemmed\n",
    "\n",
    "#def tokenize(text):\n",
    "#    tokens = nltk.word_tokenize(text)\n",
    "#    stems = stem_tokens(tokens, stemmer)\n",
    "#    return stems\n",
    "\n",
    "def tokenize(text):\n",
    "    text = \"\".join([ch for ch in text if ch not in string.punctuation])\n",
    "    tokens = nltk.word_tokenize(text)\n",
    "    stems = stem_tokens(tokens, stemmer)\n",
    "    return stems"
   ]
  },
  {
   "cell_type": "code",
   "execution_count": 8,
   "metadata": {
    "collapsed": true
   },
   "outputs": [],
   "source": [
    "from sklearn.feature_extraction.text import CountVectorizer\n",
    "from sklearn.feature_extraction.text import TfidfTransformer\n",
    "from sklearn import svm\n",
    "from sklearn.metrics import classification_report\n",
    "from sklearn.cross_validation import train_test_split"
   ]
  },
  {
   "cell_type": "code",
   "execution_count": null,
   "metadata": {
    "collapsed": true
   },
   "outputs": [],
   "source": [
    "with open('../roberts_rules/all_text.txt', 'rt') as f:\n",
    "    text = f.read()\n",
    "text = text.decode('ascii', 'ignore')\n",
    "text = re.sub(r'\\d+', '', text)\n",
    "\n",
    "vect = CountVectorizer(tokenizer=tokenize, stop_words='english', ngram_range=(2, 3)) \n",
    "vect.fit([text])\n",
    "roberts_rules = set(vect.get_feature_names())"
   ]
  },
  {
   "cell_type": "code",
   "execution_count": null,
   "metadata": {
    "collapsed": false
   },
   "outputs": [],
   "source": [
    "#vect = CountVectorizer(tokenizer=tokenize, stop_words='english', ngram_range=(2, 3), min_df=0.01)\n",
    "#vect = CountVectorizer(ngram_range=(2, 3), min_df=0.01) \n",
    "#vect = CountVectorizer(ngram_range=(2, 3)) \n",
    "vect = CountVectorizer(ngram_range=(2, 3), min_df=20) \n",
    "vect.fit(df.clean_text)"
   ]
  },
  {
   "cell_type": "code",
   "execution_count": null,
   "metadata": {
    "collapsed": false
   },
   "outputs": [],
   "source": [
    "len(vect.get_feature_names())"
   ]
  },
  {
   "cell_type": "code",
   "execution_count": null,
   "metadata": {
    "collapsed": false
   },
   "outputs": [],
   "source": [
    "vocab = []\n",
    "i = 0\n",
    "for a in vect.vocabulary_:\n",
    "    if a not in roberts_rules:\n",
    "        vocab.append(a)\n",
    "    else:\n",
    "        #print a\n",
    "        i += 1\n",
    "print(\"Removed {0:d}\".format(i))\n",
    "print(\"Total {0:d}\".format(len(vocab)))"
   ]
  },
  {
   "cell_type": "code",
   "execution_count": null,
   "metadata": {
    "collapsed": false
   },
   "outputs": [],
   "source": [
    "ng_df = pd.DataFrame(vocab)\n",
    "ng_df.columns = ['ngram']\n",
    "ng_df"
   ]
  },
  {
   "cell_type": "code",
   "execution_count": null,
   "metadata": {
    "collapsed": true
   },
   "outputs": [],
   "source": [
    "#ng_df.to_csv('../data/bills-23gram.csv', index=False)"
   ]
  },
  {
   "cell_type": "code",
   "execution_count": null,
   "metadata": {
    "collapsed": true
   },
   "outputs": [],
   "source": [
    "def most_informative_feature_for_class(vectorizer, classifier, classlabel, n=10):\n",
    "    labelid = list(classifier.classes_).index(classlabel)\n",
    "    feature_names = vectorizer.get_feature_names()\n",
    "    topn = sorted(zip(classifier.coef_[labelid], feature_names))[-n:]\n",
    "\n",
    "    for coef, feat in topn:\n",
    "        print classlabel, feat, coef\n",
    "\n",
    "def most_informative_feature_for_class_svm(vectorizer, classifier,  n=10):\n",
    "    labelid = 3 # this is the coef we're interested in. \n",
    "    feature_names = vectorizer.get_feature_names()\n",
    "    svm_coef = classifier.coef_.toarray() \n",
    "    topn = sorted(zip(svm_coef[labelid], feature_names))[-n:]\n",
    "\n",
    "    for coef, feat in topn:\n",
    "        print feat, coef\n",
    "\n",
    "def print_top10(vectorizer, clf, class_labels):\n",
    "    \"\"\"Prints features with the highest coefficient values, per class\"\"\"\n",
    "    feature_names = vectorizer.get_feature_names()\n",
    "    for i, class_label in enumerate(class_labels):\n",
    "        top10 = np.argsort(clf.coef_[i])[-10:]\n",
    "        print(\"%s: %s\" % (class_label,\n",
    "              \" | \".join(feature_names[j] for j in top10)))\n",
    "\n",
    "def get_top_features(vectorizer, clf, class_labels, n=20):\n",
    "    \"\"\"Prints features with the highest coefficient values, per class\"\"\"\n",
    "    feature_names = vectorizer.get_feature_names()\n",
    "    top_features = {}\n",
    "    for i, class_label in enumerate(class_labels):\n",
    "        topN = np.argsort(clf.coef_[i])[-n:]\n",
    "        top_features[class_label] = [feature_names[j] for j in topN][::-1]\n",
    "    return top_features"
   ]
  },
  {
   "cell_type": "markdown",
   "metadata": {},
   "source": [
    "## Model (Major)"
   ]
  },
  {
   "cell_type": "code",
   "execution_count": null,
   "metadata": {
    "collapsed": false
   },
   "outputs": [],
   "source": [
    "df.groupby('Major').agg({'Major': 'count'})"
   ]
  },
  {
   "cell_type": "code",
   "execution_count": null,
   "metadata": {
    "collapsed": true
   },
   "outputs": [],
   "source": [
    "X = df.clean_text\n",
    "y = df.Major\n",
    "\n",
    "X_train,  X_test, y_train, y_test = train_test_split(X, y, test_size=0.2, stratify=y)"
   ]
  },
  {
   "cell_type": "code",
   "execution_count": null,
   "metadata": {
    "collapsed": true
   },
   "outputs": [],
   "source": [
    "#vect = CountVectorizer(ngram_range=(2, 3), min_df=20, vocabulary=vocab)\n",
    "vect = CountVectorizer(ngram_range=(2, 3), min_df=10, max_df=5000, vocabulary=vocab)"
   ]
  },
  {
   "cell_type": "code",
   "execution_count": null,
   "metadata": {
    "collapsed": true
   },
   "outputs": [],
   "source": [
    "X_train = vect.transform(X_train)\n",
    "transformer = TfidfTransformer()\n",
    "X_train = transformer.fit_transform(X_train)"
   ]
  },
  {
   "cell_type": "code",
   "execution_count": null,
   "metadata": {
    "collapsed": false
   },
   "outputs": [],
   "source": [
    "X_test = vect.transform(X_test)\n",
    "transformer = TfidfTransformer()\n",
    "X_test = transformer.fit_transform(X_test)"
   ]
  },
  {
   "cell_type": "code",
   "execution_count": null,
   "metadata": {
    "collapsed": false
   },
   "outputs": [],
   "source": [
    "# Perform classification with SVM, kernel=linear\n",
    "classifier_liblinear = svm.LinearSVC()\n",
    "t0 = time.time()\n",
    "classifier_liblinear.fit(X_train, y_train)\n",
    "t1 = time.time()\n",
    "prediction_liblinear = classifier_liblinear.predict(X_test)\n",
    "t2 = time.time()\n",
    "time_liblinear_train = t1-t0\n",
    "time_liblinear_predict = t2-t1\n",
    "\n",
    "print(\"Results for LinearSVC()\")\n",
    "print(\"Training time: %fs; Prediction time: %fs\" % (time_liblinear_train, time_liblinear_predict))\n",
    "print(classification_report(y_test, prediction_liblinear))"
   ]
  },
  {
   "cell_type": "code",
   "execution_count": null,
   "metadata": {
    "collapsed": false
   },
   "outputs": [],
   "source": [
    "most_informative_feature_for_class(vect, classifier_liblinear, 99)\n",
    "#most_informative_feature_for_class_svm(vect, classifier_linear)"
   ]
  },
  {
   "cell_type": "code",
   "execution_count": null,
   "metadata": {
    "collapsed": false
   },
   "outputs": [],
   "source": [
    "print_top10(vect, classifier_liblinear, classifier_liblinear.classes_)"
   ]
  },
  {
   "cell_type": "code",
   "execution_count": null,
   "metadata": {
    "collapsed": true
   },
   "outputs": [],
   "source": [
    "topics_df = pd.read_csv('../data/topic_code.csv')"
   ]
  },
  {
   "cell_type": "code",
   "execution_count": null,
   "metadata": {
    "collapsed": false
   },
   "outputs": [],
   "source": [
    "top_features = get_top_features(vect, classifier_liblinear, classifier_liblinear.classes_)\n",
    "top_features_df = pd.DataFrame(top_features)\n",
    "columns = []\n",
    "for c in top_features_df.columns:\n",
    "    cname = topics_df[topics_df.code == c].topic.values[0]\n",
    "    columns.append(cname)\n",
    "top_features_df.columns = columns\n",
    "#top_features_df.to_csv('../data/major_bills_top20.csv', index=False)\n",
    "top_features_df"
   ]
  },
  {
   "cell_type": "code",
   "execution_count": null,
   "metadata": {
    "collapsed": false
   },
   "outputs": [],
   "source": [
    "from sklearn.externals import joblib\n",
    "\n",
    "#joblib.dump(vect, \"../models/vec_count_bills_23gram.joblib\")\n",
    "#joblib.dump(classifier_liblinear, \"../models/major_bills_clf_liblinear.joblib\")"
   ]
  },
  {
   "cell_type": "markdown",
   "metadata": {},
   "source": [
    "## Try SGDClassifier"
   ]
  },
  {
   "cell_type": "code",
   "execution_count": null,
   "metadata": {
    "collapsed": false
   },
   "outputs": [],
   "source": [
    "if False:\n",
    "    from sklearn.linear_model import SGDClassifier\n",
    "\n",
    "    elastic_clf = SGDClassifier(loss='log', alpha=.00002, n_iter=200, penalty=\"elasticnet\")\n",
    "    t0 = time.time()\n",
    "    elastic_clf.fit(X_train, y_train)\n",
    "    t1 = time.time()\n",
    "    prediction_elastic = elastic_clf.predict(X_test)\n",
    "    t2 = time.time()\n",
    "    time_elastic_train = t1-t0\n",
    "    time_elastic_predict = t2-t1\n",
    "\n",
    "    print(\"Results for Elastic Net\")\n",
    "    print(\"Training time: %fs; Prediction time: %fs\" % (time_elastic_train, time_elastic_predict))\n",
    "    print(classification_report(y_test, prediction_elastic))"
   ]
  },
  {
   "cell_type": "code",
   "execution_count": null,
   "metadata": {
    "collapsed": false
   },
   "outputs": [],
   "source": [
    "if False:\n",
    "    most_informative_feature_for_class(vect, elastic_clf, 99)"
   ]
  },
  {
   "cell_type": "code",
   "execution_count": null,
   "metadata": {
    "collapsed": false
   },
   "outputs": [],
   "source": [
    "if False:\n",
    "    print_top10(vect,  elastic_clf,  elastic_clf.classes_)"
   ]
  },
  {
   "cell_type": "markdown",
   "metadata": {},
   "source": [
    "## Minor Model"
   ]
  },
  {
   "cell_type": "markdown",
   "metadata": {},
   "source": [
    "#### Was removed!!!"
   ]
  },
  {
   "cell_type": "markdown",
   "metadata": {},
   "source": [
    "## Model (topic_1 == 1)"
   ]
  },
  {
   "cell_type": "code",
   "execution_count": null,
   "metadata": {
    "collapsed": true
   },
   "outputs": [],
   "source": [
    "selected_topics = topics_df[topics_df.topic_1 == 1].code.unique()"
   ]
  },
  {
   "cell_type": "code",
   "execution_count": null,
   "metadata": {
    "collapsed": false
   },
   "outputs": [],
   "source": [
    "selected_topics "
   ]
  },
  {
   "cell_type": "code",
   "execution_count": null,
   "metadata": {
    "collapsed": true
   },
   "outputs": [],
   "source": [
    "X = df[df.Minor.isin(minors) & df.Minor.isin(selected_topics)].clean_text\n",
    "y = df[df.Minor.isin(minors) & df.Minor.isin(selected_topics)].Minor\n",
    "\n",
    "X_train,  X_test, y_train, y_test = train_test_split(X, y, test_size=0.2, stratify=y)"
   ]
  },
  {
   "cell_type": "code",
   "execution_count": null,
   "metadata": {
    "collapsed": true
   },
   "outputs": [],
   "source": [
    "X_train = vect.transform(X_train)\n",
    "transformer = TfidfTransformer()\n",
    "X_train = transformer.fit_transform(X_train)"
   ]
  },
  {
   "cell_type": "code",
   "execution_count": null,
   "metadata": {
    "collapsed": true
   },
   "outputs": [],
   "source": [
    "X_test = vect.transform(X_test)\n",
    "transformer = TfidfTransformer()\n",
    "X_test = transformer.fit_transform(X_test)"
   ]
  },
  {
   "cell_type": "code",
   "execution_count": null,
   "metadata": {
    "collapsed": false
   },
   "outputs": [],
   "source": [
    "# Perform classification with SVM, kernel=linear\n",
    "classifier_liblinear = svm.LinearSVC()\n",
    "t0 = time.time()\n",
    "classifier_liblinear.fit(X_train, y_train)\n",
    "t1 = time.time()\n",
    "prediction_liblinear = classifier_liblinear.predict(X_test)\n",
    "t2 = time.time()\n",
    "time_liblinear_train = t1-t0\n",
    "time_liblinear_predict = t2-t1\n",
    "\n",
    "print(\"Results for LinearSVC()\")\n",
    "print(\"Training time: %fs; Prediction time: %fs\" % (time_liblinear_train, time_liblinear_predict))\n",
    "print(classification_report(y_test, prediction_liblinear))"
   ]
  },
  {
   "cell_type": "code",
   "execution_count": null,
   "metadata": {
    "collapsed": false
   },
   "outputs": [],
   "source": [
    "most_informative_feature_for_class(vect, classifier_liblinear, 501)"
   ]
  },
  {
   "cell_type": "code",
   "execution_count": null,
   "metadata": {
    "collapsed": false
   },
   "outputs": [],
   "source": [
    "print_top10(vect, classifier_liblinear, classifier_liblinear.classes_)"
   ]
  },
  {
   "cell_type": "code",
   "execution_count": null,
   "metadata": {
    "collapsed": false
   },
   "outputs": [],
   "source": [
    "top_features = get_top_features(vect, classifier_liblinear, classifier_liblinear.classes_)\n",
    "top_features_df = pd.DataFrame(top_features)\n",
    "columns = []\n",
    "for c in top_features_df.columns:\n",
    "    cname = topics_df[topics_df.code == c].topic.values[0]\n",
    "    columns.append(cname)\n",
    "top_features_df.columns = columns\n",
    "#top_features_df.to_csv('../data/topic_1_bills_top20.csv', index=False)\n",
    "top_features_df"
   ]
  },
  {
   "cell_type": "code",
   "execution_count": null,
   "metadata": {
    "collapsed": false
   },
   "outputs": [],
   "source": [
    "from sklearn.externals import joblib\n",
    "\n",
    "#joblib.dump(vect, \"../models/vec_count_bills_23gram.joblib\")\n",
    "#joblib.dump(classifier_liblinear, \"../models/topic_1_bills_clf_liblinear.joblib\")"
   ]
  },
  {
   "cell_type": "markdown",
   "metadata": {},
   "source": [
    "## Try LogisticRegression"
   ]
  },
  {
   "cell_type": "code",
   "execution_count": null,
   "metadata": {
    "collapsed": false
   },
   "outputs": [],
   "source": [
    "if True:\n",
    "    from sklearn.linear_model import LogisticRegression\n",
    "\n",
    "    # Perform classification with LogisticRegression\n",
    "    logreg_clf = LogisticRegression()\n",
    "    t0 = time.time()\n",
    "    logreg_clf.fit(X_train, y_train)\n",
    "    t1 = time.time()\n",
    "    prediction_logreg = logreg_clf.predict(X_test)\n",
    "    t2 = time.time()\n",
    "    time_logreg_train = t1-t0\n",
    "    time_logreg_predict = t2-t1\n",
    "\n",
    "    print(\"Results for LogisticRegression()\")\n",
    "    print(\"Training time: %fs; Prediction time: %fs\" % (time_logreg_train, time_logreg_predict))\n",
    "    print(classification_report(y_test, prediction_logreg))\n",
    "    most_informative_feature_for_class(vect, logreg_clf, 501)\n",
    "    print_top10(vect, logreg_clf, logreg_clf.classes_)"
   ]
  }
 ],
 "metadata": {
  "kernelspec": {
   "display_name": "Python 2",
   "language": "python",
   "name": "python2"
  },
  "language_info": {
   "codemirror_mode": {
    "name": "ipython",
    "version": 2
   },
   "file_extension": ".py",
   "mimetype": "text/x-python",
   "name": "python",
   "nbconvert_exporter": "python",
   "pygments_lexer": "ipython2",
   "version": "2.7.6"
  }
 },
 "nbformat": 4,
 "nbformat_minor": 1
}
