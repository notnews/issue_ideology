{
 "cells": [
  {
   "cell_type": "markdown",
   "metadata": {},
   "source": [
    "3. Predict all news data which is in folder normalized/ --- again just need date, news source, and then all the columns (we want column names of prediction as labels than code)"
   ]
  },
  {
   "cell_type": "code",
   "execution_count": 1,
   "metadata": {
    "collapsed": true
   },
   "outputs": [],
   "source": [
    "import pandas as pd\n",
    "import numpy as np\n",
    "import time\n",
    "from glob import glob"
   ]
  },
  {
   "cell_type": "markdown",
   "metadata": {},
   "source": [
    "## Read news dataset"
   ]
  },
  {
   "cell_type": "code",
   "execution_count": 2,
   "metadata": {
    "collapsed": true
   },
   "outputs": [],
   "source": [
    "import nltk\n",
    "from nltk import word_tokenize          \n",
    "from nltk.stem.porter import PorterStemmer\n",
    "import re\n",
    "import string\n",
    "\n",
    "stemmer = PorterStemmer()\n",
    "def stem_tokens(tokens, stemmer):\n",
    "    stemmed = []\n",
    "    for item in tokens:\n",
    "        stemmed.append(stemmer.stem(item))\n",
    "    return stemmed\n",
    "\n",
    "#def tokenize(text):\n",
    "#    tokens = nltk.word_tokenize(text)\n",
    "#    stems = stem_tokens(tokens, stemmer)\n",
    "#    return stems\n",
    "\n",
    "def tokenize(text):\n",
    "    text = \"\".join([ch for ch in text if ch not in string.punctuation])\n",
    "    tokens = nltk.word_tokenize(text)\n",
    "    stems = stem_tokens(tokens, stemmer)\n",
    "    return stems"
   ]
  },
  {
   "cell_type": "code",
   "execution_count": 3,
   "metadata": {
    "collapsed": true
   },
   "outputs": [],
   "source": [
    "from nltk.corpus import stopwords\n",
    "\n",
    "def clean_text(text):\n",
    "    text = text.decode('ascii', 'ignore')\n",
    "    text = re.sub('\\d+', '', text)\n",
    "    text = text.lower()\n",
    "    text = \"\".join([ch for ch in text if ch not in string.punctuation])\n",
    "    tokens = nltk.word_tokenize(text)\n",
    "    tokens = [t for t in tokens if t not in stopwords.words('english')]\n",
    "    stems = stem_tokens(tokens, stemmer)\n",
    "    return ' '.join(stems)\n"
   ]
  },
  {
   "cell_type": "code",
   "execution_count": 9,
   "metadata": {
    "collapsed": false
   },
   "outputs": [
    {
     "name": "stdout",
     "output_type": "stream",
     "text": [
      "9\n"
     ]
    }
   ],
   "source": [
    "import os\n",
    "ban_files = ['all-news.csv']\n",
    "files = {}\n",
    "count = 0\n",
    "for f in glob('../normalized/*.csv'):\n",
    "    if os.path.basename(f) in ban_files:\n",
    "        continue\n",
    "    df = pd.read_csv(f, nrows=10)\n",
    "    if 'text' not in df.columns:\n",
    "        text = 'Content'\n",
    "        date = 'Date'\n",
    "        files[f] = {'usecols': ['Date', 'Content', 'channel_reg'], 'parse_dates': {'date': [0]}}\n",
    "    else:\n",
    "        files[f] = {'usecols': ['year', 'month', 'day', 'text', 'channel_reg'], 'parse_dates': {'date': [1, 2, 3]}}\n",
    "    count += 1\n",
    "print count\n"
   ]
  },
  {
   "cell_type": "code",
   "execution_count": 11,
   "metadata": {
    "collapsed": false,
    "scrolled": false
   },
   "outputs": [
    {
     "name": "stdout",
     "output_type": "stream",
     "text": [
      "../normalized/newsbank-cnn-fn-cleaned-reg.csv\n",
      "1\n",
      "../normalized/lacc-cleaned-reg.csv\n",
      "2\n",
      "3\n",
      "4\n",
      "5\n",
      "6\n",
      "7\n",
      "8\n",
      "9\n",
      "../normalized/cnn-cleaned-reg.csv\n",
      "10\n",
      "11\n",
      "12\n",
      "13\n",
      "14\n",
      "15\n",
      "16\n",
      "17\n",
      "18\n",
      "19\n",
      "../normalized/newsbank-stf-fox-cleaned-reg.csv\n",
      "20\n",
      "21\n",
      "../normalized/msnbc-reg.csv\n",
      "22\n",
      "../normalized/newsbank-cnn-inter-cleaned-reg.csv\n",
      "23\n",
      "../normalized/newsbank-fox-cleaned-reg.csv\n",
      "24\n",
      "../normalized/newsbank-msnbc-cleaned-reg.csv\n",
      "25\n",
      "../normalized/archive-clean-reg.csv\n",
      "26\n",
      "27\n",
      "28\n",
      "29\n",
      "30\n",
      "31\n",
      "32\n",
      "33\n",
      "34\n",
      "35\n",
      "36\n",
      "37\n",
      "38\n",
      "39\n"
     ]
    }
   ],
   "source": [
    "total = 0    \n",
    "for i, f in enumerate(files.keys()):\n",
    "    print f\n",
    "    NROWS = 20000\n",
    "    reader = pd.read_csv(f, iterator=True, chunksize=NROWS, **files[f])\n",
    "    for df in reader:\n",
    "        if 'Content' in df.columns:\n",
    "            df = df[['date', 'channel_reg', 'Content']]\n",
    "        df.columns = ['date', 'news_source', 'text']\n",
    "        if 'msnbc-reg.csv' in f:\n",
    "            df['text'] = df.text.astype(str).apply(lambda c: clean_text(c))\n",
    "        else:\n",
    "            df.text = df.text.str.replace(r'\\d+', '')\n",
    "        if total == 0:\n",
    "            with open(\"../normalized/all-news.csv\", \"w\") as fp:\n",
    "                df.to_csv(fp, index=False)\n",
    "        else:\n",
    "            with open(\"../normalized/all-news.csv\",\"a\") as fp:\n",
    "                df.to_csv(fp, header=False, index=False)\n",
    "        #print df\n",
    "        total += 1\n",
    "        print total\n",
    "        #break\n",
    "    #break"
   ]
  },
  {
   "cell_type": "code",
   "execution_count": null,
   "metadata": {
    "collapsed": true
   },
   "outputs": [],
   "source": []
  }
 ],
 "metadata": {
  "kernelspec": {
   "display_name": "Python 2",
   "language": "python",
   "name": "python2"
  },
  "language_info": {
   "codemirror_mode": {
    "name": "ipython",
    "version": 2
   },
   "file_extension": ".py",
   "mimetype": "text/x-python",
   "name": "python",
   "nbconvert_exporter": "python",
   "pygments_lexer": "ipython2",
   "version": "2.7.6"
  }
 },
 "nbformat": 4,
 "nbformat_minor": 1
}
