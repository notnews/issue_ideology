{
 "cells": [
  {
   "cell_type": "markdown",
   "metadata": {},
   "source": [
    "3. Predict all news data which is in folder normalized/ --- again just need date, news source, and then all the columns (we want column names of prediction as labels than code)"
   ]
  },
  {
   "cell_type": "code",
   "execution_count": 1,
   "metadata": {
    "collapsed": true
   },
   "outputs": [],
   "source": [
    "import pandas as pd\n",
    "import numpy as np\n",
    "import time"
   ]
  },
  {
   "cell_type": "code",
   "execution_count": 2,
   "metadata": {
    "collapsed": false
   },
   "outputs": [],
   "source": [
    "import re\n",
    "import textwrap\n",
    "\n",
    "def insert_chars_split_marker(text, cc=2500):\n",
    "    # FIXME: text still has number\n",
    "    text = re.sub('\\d+', '', text)\n",
    "    out = '|'.join(textwrap.wrap(text, cc))\n",
    "    return out\n",
    "\n",
    "def insert_words_split_marker(text, wc=500):\n",
    "    text = re.sub('\\d+', '', text)\n",
    "    words = text.split()\n",
    "    out = ''\n",
    "    for i, w in enumerate(words):\n",
    "        if i != 0 and i % wc == 0:\n",
    "            out += '|' + w\n",
    "        else:\n",
    "            out += ' ' + w\n",
    "    return out"
   ]
  },
  {
   "cell_type": "code",
   "execution_count": 3,
   "metadata": {
    "collapsed": true
   },
   "outputs": [],
   "source": [
    "from sklearn.externals import joblib\n",
    "from sklearn.feature_extraction.text import TfidfTransformer"
   ]
  },
  {
   "cell_type": "markdown",
   "metadata": {},
   "source": [
    "## Major Model"
   ]
  },
  {
   "cell_type": "code",
   "execution_count": 4,
   "metadata": {
    "collapsed": true
   },
   "outputs": [],
   "source": [
    "vect_name = '../models/vec_count_bills_23gram_new.joblib'\n",
    "clf_name = '../models/major_bills_clf_liblinear_new.joblib'"
   ]
  },
  {
   "cell_type": "code",
   "execution_count": 5,
   "metadata": {
    "collapsed": false
   },
   "outputs": [
    {
     "data": {
      "text/plain": [
       "686467"
      ]
     },
     "execution_count": 5,
     "metadata": {},
     "output_type": "execute_result"
    }
   ],
   "source": [
    "vect = joblib.load(vect_name)\n",
    "clf = joblib.load(clf_name)\n",
    "len(vect.vocabulary_)"
   ]
  },
  {
   "cell_type": "code",
   "execution_count": null,
   "metadata": {
    "collapsed": false
   },
   "outputs": [],
   "source": [
    "df = pd.read_csv('../normalized/all-news.csv', 'rU', nrows=100000, delimiter=',')\n",
    "df"
   ]
  },
  {
   "cell_type": "code",
   "execution_count": null,
   "metadata": {
    "collapsed": false
   },
   "outputs": [],
   "source": [
    "total = 0\n",
    "for df in pd.read_csv('../normalized/all-news.csv', 'rU', iterator=True, chunksize=100000, engine='c'):\n",
    "    print df.text.str.len()\n",
    "    \"\"\"\"\n",
    "    if False:\n",
    "        df['text'] = df['text'].apply(lambda c: insert_chars_split_marker(c, 2500))\n",
    "        s = df['text'].str.split('|', expand=True).stack()\n",
    "        i = s.index.get_level_values(0)\n",
    "        new_df = df.loc[i].copy()\n",
    "        new_df['chunk'] = s.index.get_level_values(1)\n",
    "        new_df['text'] = s.values\n",
    "        df = new_df.reset_index(drop=True)\n",
    "    X = vect.transform(df.text.astype(str))\n",
    "    tfidf = TfidfTransformer()\n",
    "    X = tfidf.fit_transform(X)\n",
    "    y_pred = clf.predict(X)\n",
    "    df['topic'] = y_pred\n",
    "    if total == 0:\n",
    "        with open(\"../data/news_predict_major.csv\", \"w\") as fp:\n",
    "            df.to_csv(fp, index=False)\n",
    "    else:\n",
    "        with open(\"../data/news_predict_major.csv\",\"a\") as fp:\n",
    "            df.to_csv(fp, header=False, index=False)\n",
    "    total += 1\n",
    "    print total\n",
    "    \"\"\"\n",
    "    break"
   ]
  },
  {
   "cell_type": "code",
   "execution_count": null,
   "metadata": {
    "collapsed": true
   },
   "outputs": [],
   "source": []
  }
 ],
 "metadata": {
  "kernelspec": {
   "display_name": "Python 2",
   "language": "python",
   "name": "python2"
  },
  "language_info": {
   "codemirror_mode": {
    "name": "ipython",
    "version": 2
   },
   "file_extension": ".py",
   "mimetype": "text/x-python",
   "name": "python",
   "nbconvert_exporter": "python",
   "pygments_lexer": "ipython2",
   "version": "2.7.6"
  }
 },
 "nbformat": 4,
 "nbformat_minor": 1
}
